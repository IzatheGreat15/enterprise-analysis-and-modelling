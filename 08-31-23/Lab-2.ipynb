{
 "cells": [
  {
   "cell_type": "markdown",
   "metadata": {},
   "source": [
    "### Laboratory Activity #2 \n",
    "\n",
    "Members:\n",
    "\n",
    "- Guzman, Jastine\n",
    "- Monzales, Kathleen Iza\n",
    "- Tejada, Jay\n",
    "- Izumi, Sana\n",
    "- Calzada, Mark David\n",
    "- Gobui, Ralph Matthew\n"
   ]
  },
  {
   "cell_type": "code",
   "execution_count": 1,
   "metadata": {},
   "outputs": [],
   "source": [
    "# import pandas\n",
    "import pandas as pd"
   ]
  },
  {
   "cell_type": "markdown",
   "metadata": {},
   "source": [
    "Part 1 – Loading Data\n",
    "1. Read the Mall_Customers csv. File using pandas (3 pts.).\n",
    "2. What is the dimension/shape of the file (2 pts.)?\n",
    "3. Print the first ten rows (2 pts.)"
   ]
  },
  {
   "cell_type": "code",
   "execution_count": 2,
   "metadata": {},
   "outputs": [
    {
     "name": "stdout",
     "output_type": "stream",
     "text": [
      "The dimension of the file is:  (200, 5)\n",
      "First ten rows: \n",
      "    CustomerID  Gender  Age  Annual Income (k$)  Spending Score (1-100)\n",
      "0           1    Male   19                  15                      39\n",
      "1           2    Male   21                  15                      81\n",
      "2           3  Female   20                  16                       6\n",
      "3           4  Female   23                  16                      77\n",
      "4           5  Female   31                  17                      40\n",
      "5           6  Female   22                  17                      76\n",
      "6           7  Female   35                  18                       6\n",
      "7           8  Female   23                  18                      94\n",
      "8           9    Male   64                  19                       3\n",
      "9          10  Female   30                  19                      72\n"
     ]
    }
   ],
   "source": [
    "# 1.) Read the file\n",
    "file = pd.read_csv('Mall_Customers.csv')\n",
    "\n",
    "# 2.) Print the dimension of the file\n",
    "print(\"The dimension of the file is: \", file.shape)\n",
    "\n",
    "# 3.) Print the first ten rows\n",
    "print(\"First ten rows: \\n\", file.head(10))"
   ]
  },
  {
   "cell_type": "markdown",
   "metadata": {},
   "source": [
    "Part 2 – Selecting Rows and Columns\n",
    "1. Print the first 15 rows of the ‘Gender’ column\n",
    "2. Print the Age and Annual income of the third and fifth customer using the attribute loc.\n",
    "3. How many Female and Male customers are in this data?\n",
    "4. Print the age, annual income, and spending score of the first 20 customers"
   ]
  },
  {
   "cell_type": "code",
   "execution_count": 3,
   "metadata": {},
   "outputs": [
    {
     "name": "stdout",
     "output_type": "stream",
     "text": [
      "The first 15 rows of the gender column: \n",
      " 0       Male\n",
      "1       Male\n",
      "2     Female\n",
      "3     Female\n",
      "4     Female\n",
      "5     Female\n",
      "6     Female\n",
      "7     Female\n",
      "8       Male\n",
      "9     Female\n",
      "10      Male\n",
      "11    Female\n",
      "12    Female\n",
      "13    Female\n",
      "14      Male\n",
      "Name: Gender, dtype: object\n",
      "\n",
      "Age & Annual Income of the 3rd and 5th customer:\n",
      "   Age  Annual Income (k$)\n",
      "2   20                  16\n",
      "4   31                  17\n",
      "\n",
      " Gender\n",
      "Female    112\n",
      "Male       88\n",
      "Name: count, dtype: int64\n",
      "\n",
      "The First 20 customers: \n",
      "     Age  Annual Income (k$)  Spending Score (1-100)\n",
      "0    19                  15                      39\n",
      "1    21                  15                      81\n",
      "2    20                  16                       6\n",
      "3    23                  16                      77\n",
      "4    31                  17                      40\n",
      "5    22                  17                      76\n",
      "6    35                  18                       6\n",
      "7    23                  18                      94\n",
      "8    64                  19                       3\n",
      "9    30                  19                      72\n",
      "10   67                  19                      14\n",
      "11   35                  19                      99\n",
      "12   58                  20                      15\n",
      "13   24                  20                      77\n",
      "14   37                  20                      13\n",
      "15   22                  20                      79\n",
      "16   35                  21                      35\n",
      "17   20                  21                      66\n",
      "18   52                  23                      29\n",
      "19   35                  23                      98\n"
     ]
    }
   ],
   "source": [
    "# 1.) Print the first 15 rows of the gender column\n",
    "print(\"The first 15 rows of the gender column: \\n\", file['Gender'].head(15))\n",
    "\n",
    "# 2.) Print the Age and Annual income of the third and fifth customer using the attribute loc.\n",
    "print(\"\\nAge & Annual Income of the 3rd and 5th customer:\")\n",
    "print(file.loc[[2, 4], ['Age', 'Annual Income (k$)']])\n",
    "\n",
    "# 3.) Count how many female and male customers\n",
    "print(\"\\n\", file['Gender'].value_counts())\n",
    "\n",
    "# 4.) Print the age, annual income, and spending score of the first 20 customers\n",
    "print(\"\\nThe First 20 customers: \\n\", file.loc[0:19, 'Age':'Spending Score (1-100)'])"
   ]
  },
  {
   "cell_type": "markdown",
   "metadata": {},
   "source": [
    "Part 3 – Setting, Resetting, and Using Indexes\n",
    "1. Set the CustomerID as the row index using .set_index panda attribute and print the data afterward.\n",
    "2. Reset the index back to the original using .reset_index panda attribute.\n",
    "3. Sort the data from highest to lowest spending score using .sort_values() panda attribute. Print the\n",
    "data after sorting."
   ]
  },
  {
   "cell_type": "code",
   "execution_count": 4,
   "metadata": {},
   "outputs": [
    {
     "name": "stdout",
     "output_type": "stream",
     "text": [
      "Setting the CustomerID as the index:\n",
      "             Gender  Age  Annual Income (k$)  Spending Score (1-100)\n",
      "CustomerID                                                         \n",
      "1             Male   19                  15                      39\n",
      "2             Male   21                  15                      81\n",
      "3           Female   20                  16                       6\n",
      "4           Female   23                  16                      77\n",
      "5           Female   31                  17                      40\n",
      "...            ...  ...                 ...                     ...\n",
      "196         Female   35                 120                      79\n",
      "197         Female   45                 126                      28\n",
      "198           Male   32                 126                      74\n",
      "199           Male   32                 137                      18\n",
      "200           Male   30                 137                      83\n",
      "\n",
      "[200 rows x 4 columns]\n",
      "\n",
      "Sorted accoording to spending score(highest to lowest):\n",
      "      CustomerID  Gender  Age  Annual Income (k$)  Spending Score (1-100)\n",
      "11           12  Female   35                  19                      99\n",
      "19           20  Female   35                  23                      98\n",
      "145         146    Male   28                  77                      97\n",
      "185         186    Male   30                  99                      97\n",
      "127         128    Male   40                  71                      95\n",
      "..          ...     ...  ...                 ...                     ...\n",
      "30           31    Male   60                  30                       4\n",
      "32           33    Male   53                  33                       4\n",
      "8             9    Male   64                  19                       3\n",
      "158         159    Male   34                  78                       1\n",
      "156         157    Male   37                  78                       1\n",
      "\n",
      "[200 rows x 5 columns]\n"
     ]
    }
   ],
   "source": [
    "# 1.) Set CustomerID as the index\n",
    "file = file.set_index('CustomerID', inplace=False, drop=True)\n",
    "print(\"Setting the CustomerID as the index:\\n\", file)\n",
    "\n",
    "# 2.) Resetting the index\n",
    "file = file.reset_index()\n",
    "# print(\"\\nResetting the index:\\n\", file)\n",
    "\n",
    "# 3.) Sort the data according to spending score\n",
    "file = file.sort_values(by='Spending Score (1-100)', ascending=False)\n",
    "print(\"\\nSorted accoording to spending score(highest to lowest):\\n\", file)\n"
   ]
  },
  {
   "cell_type": "markdown",
   "metadata": {},
   "source": [
    "Part 4 – Filtering\n",
    "1. Print the customer’s IDs with a spending score lower than 50 points.\n",
    "2. Print the customer’s information with an annual income of more than k$30 and a spending score\n",
    "lower than 50 points."
   ]
  },
  {
   "cell_type": "code",
   "execution_count": 5,
   "metadata": {},
   "outputs": [
    {
     "name": "stdout",
     "output_type": "stream",
     "text": [
      "Sending Score < 50\n",
      " 99     100\n",
      "92      93\n",
      "72      73\n",
      "109    110\n",
      "67      68\n",
      "      ... \n",
      "30      31\n",
      "32      33\n",
      "8        9\n",
      "158    159\n",
      "156    157\n",
      "Name: CustomerID, Length: 98, dtype: int64\n",
      "\n",
      "Annual Income > 30 and Spending Score < 50      CustomerID  Gender  Age  Annual Income (k$)  Spending Score (1-100)\n",
      "99          100    Male   20                  61                      49\n",
      "92           93    Male   48                  60                      49\n",
      "72           73  Female   60                  50                      49\n",
      "109         110    Male   66                  63                      48\n",
      "67           68  Female   68                  48                      48\n",
      "..          ...     ...  ...                 ...                     ...\n",
      "162         163    Male   19                  81                       5\n",
      "140         141  Female   57                  75                       5\n",
      "32           33    Male   53                  33                       4\n",
      "158         159    Male   34                  78                       1\n",
      "156         157    Male   37                  78                       1\n",
      "\n",
      "[82 rows x 5 columns]\n"
     ]
    }
   ],
   "source": [
    "# 1.) Print the IDs whose spending score is less than 50\n",
    "print(\"Sending Score < 50\\n\", file.loc[file['Spending Score (1-100)'] < 50, 'CustomerID'])\n",
    "\n",
    "# 2.) Print the customer info with an annual income more than k$30 and a spending score less than 50\n",
    "filteredData = file[(file['Spending Score (1-100)'] < 50) & (file['Annual Income (k$)'] > 30)]\n",
    "print(\"\\nAnnual Income > 30 and Spending Score < 50\", filteredData)"
   ]
  }
 ],
 "metadata": {
  "kernelspec": {
   "display_name": "Python 3",
   "language": "python",
   "name": "python3"
  },
  "language_info": {
   "codemirror_mode": {
    "name": "ipython",
    "version": 3
   },
   "file_extension": ".py",
   "mimetype": "text/x-python",
   "name": "python",
   "nbconvert_exporter": "python",
   "pygments_lexer": "ipython3",
   "version": "3.11.4"
  },
  "orig_nbformat": 4
 },
 "nbformat": 4,
 "nbformat_minor": 2
}
