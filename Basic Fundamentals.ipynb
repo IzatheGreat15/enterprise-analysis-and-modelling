{
 "cells": [
  {
   "cell_type": "markdown",
   "id": "d4b41a13",
   "metadata": {},
   "source": [
    "<h4>Basic Fundamentals of Python Programming:</h4>\n",
    "\n",
    "<p>Numeric Values</p>\n"
   ]
  },
  {
   "cell_type": "code",
   "execution_count": 3,
   "id": "edc573e0",
   "metadata": {},
   "outputs": [
    {
     "name": "stdout",
     "output_type": "stream",
     "text": [
      "15  is of type  <class 'int'>\n",
      "12.8  is of type  <class 'float'>\n"
     ]
    }
   ],
   "source": [
    "integer = 15\n",
    "floating = 12.8\n",
    "\n",
    "print(integer, \" is of type \", type(integer))\n",
    "print(floating, \" is of type \", type(floating))"
   ]
  },
  {
   "cell_type": "markdown",
   "id": "6f4b770c",
   "metadata": {},
   "source": [
    "<p>String Values</p>"
   ]
  },
  {
   "cell_type": "code",
   "execution_count": 4,
   "id": "c098fbbe",
   "metadata": {},
   "outputs": [
    {
     "name": "stdout",
     "output_type": "stream",
     "text": [
      "Single quotes  is of type  <class 'str'>\n",
      "Double quotes  is of type  <class 'str'>\n"
     ]
    }
   ],
   "source": [
    "string1 = 'Single quotes'\n",
    "string2 = \"Double quotes\"\n",
    "\n",
    "print(string1, \" is of type \", type(string1))\n",
    "print(string2, \" is of type \", type(string2))"
   ]
  },
  {
   "cell_type": "code",
   "execution_count": 13,
   "id": "c26690e9",
   "metadata": {},
   "outputs": [
    {
     "name": "stdout",
     "output_type": "stream",
     "text": [
      "8\n",
      "5.2\n",
      "7.0\n",
      "7.0\n",
      "8\n",
      "3 + 5\n"
     ]
    }
   ],
   "source": [
    "print(3 + 5)        # answer is integer since both are integer\n",
    "print(4.0 + 1.2)    # answer is float since both are float\n",
    "print(3 + 4.0)      # answer will be float since float occupy more space than integer\n",
    "print(float(3 + 4)) # explicit datatype conversion\n",
    "print(str(3 + 5))   # answer is int = 8 then convert into string\n",
    "print(str('3 + 5')) # treated as string"
   ]
  },
  {
   "cell_type": "markdown",
   "id": "cd2ae8fc",
   "metadata": {},
   "source": [
    "<p>Reserve Keywords:</p>\n",
    "\n",
    "<table>\n",
    "    <tr>\n",
    "        <td>and</td>\n",
    "        <td>as</td>\n",
    "        <td>assert</td>\n",
    "        <td>break</td>\n",
    "        <td>class</td>\n",
    "    </tr>\n",
    "    <tr>\n",
    "        <td>else</td>\n",
    "        <td>elif</td>\n",
    "        <td>del</td>\n",
    "        <td>def</td>\n",
    "        <td>continue</td>\n",
    "    </tr>\n",
    "    <tr>\n",
    "        <td>except</td>\n",
    "        <td>False</td>\n",
    "        <td>finally</td>\n",
    "        <td>for</td>\n",
    "        <td>from</td>\n",
    "    </tr>\n",
    "    <tr>\n",
    "        <td>Is</td>\n",
    "        <td>in</td>\n",
    "        <td>import</td>\n",
    "        <td>if</td>\n",
    "        <td>global</td>\n",
    "    </tr>\n",
    "    <tr>\n",
    "        <td>lambda</td>\n",
    "        <td>None</td>\n",
    "        <td>nonlocal</td>\n",
    "        <td>not</td>\n",
    "        <td>or</td>\n",
    "    </tr>\n",
    "    <tr>\n",
    "        <td>True</td>\n",
    "        <td>try</td>\n",
    "        <td>return</td>\n",
    "        <td>raise</td>\n",
    "        <td>pass</td>\n",
    "    </tr>\n",
    "    <tr>\n",
    "        <td>while</td>\n",
    "        <td>with</td>\n",
    "        <td>yield</td>\n",
    "    </tr>\n",
    "</table>"
   ]
  },
  {
   "cell_type": "markdown",
   "id": "5fcf5633",
   "metadata": {},
   "source": [
    "<h4>Reassigning Objects</h4>\n",
    "\n",
    "<p>Reassigning a function to a variable</p>"
   ]
  },
  {
   "cell_type": "code",
   "execution_count": 16,
   "id": "9678c9ae",
   "metadata": {},
   "outputs": [
    {
     "ename": "TypeError",
     "evalue": "'int' object is not callable",
     "output_type": "error",
     "traceback": [
      "\u001b[1;31m---------------------------------------------------------------------------\u001b[0m",
      "\u001b[1;31mTypeError\u001b[0m                                 Traceback (most recent call last)",
      "Cell \u001b[1;32mIn[16], line 2\u001b[0m\n\u001b[0;32m      1\u001b[0m \u001b[39m# Using the normal print() function, which will output 18\u001b[39;00m\n\u001b[1;32m----> 2\u001b[0m \u001b[39mprint\u001b[39;49m(\u001b[39m18\u001b[39;49m)\n\u001b[0;32m      4\u001b[0m \u001b[39m# Reassigning the name 'print' as a variable holding integer 99\u001b[39;00m\n\u001b[0;32m      5\u001b[0m \u001b[39mprint\u001b[39m \u001b[39m=\u001b[39m \u001b[39m99\u001b[39m\n",
      "\u001b[1;31mTypeError\u001b[0m: 'int' object is not callable"
     ]
    }
   ],
   "source": [
    "# Using the normal print() function, which will output 18\n",
    "print(18)\n",
    "\n",
    "# Reassigning the name 'print' as a variable holding integer 99\n",
    "print = 99\n",
    "\n",
    "# Using the print as a normal print() function, will cause an error\n",
    "# since print is no longer a function but a variable\n",
    "print(27)"
   ]
  },
  {
   "cell_type": "markdown",
   "id": "9ccdcb28",
   "metadata": {},
   "source": [
    "<p>To Fix this:</p>"
   ]
  },
  {
   "cell_type": "code",
   "execution_count": 18,
   "id": "4a5f6cbc",
   "metadata": {},
   "outputs": [
    {
     "name": "stdout",
     "output_type": "stream",
     "text": [
      "27\n"
     ]
    }
   ],
   "source": [
    "# Restore the original print() function\n",
    "del print\n",
    "\n",
    "# Use it as a normal print() function again\n",
    "print(27)"
   ]
  }
 ],
 "metadata": {
  "kernelspec": {
   "display_name": "Python 3",
   "language": "python",
   "name": "python3"
  },
  "language_info": {
   "codemirror_mode": {
    "name": "ipython",
    "version": 3
   },
   "file_extension": ".py",
   "mimetype": "text/x-python",
   "name": "python",
   "nbconvert_exporter": "python",
   "pygments_lexer": "ipython3",
   "version": "3.11.4"
  }
 },
 "nbformat": 4,
 "nbformat_minor": 5
}
