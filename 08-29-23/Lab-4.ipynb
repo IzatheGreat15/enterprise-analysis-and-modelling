{
 "cells": [
  {
   "cell_type": "markdown",
   "metadata": {},
   "source": [
    "### Laboratory Activity #4\n",
    "\n",
    "Members:\n",
    "\n",
    "- Guzman, Jastine\n",
    "- Monzales, Kathleen Iza\n",
    "- Tejada, Jay\n",
    "- Izumi, Sana\n",
    "- Calzada, Mark David\n",
    "- Gobui, Ralph Matthew\n"
   ]
  },
  {
   "cell_type": "code",
   "execution_count": 1,
   "metadata": {},
   "outputs": [],
   "source": [
    "import numpy as np"
   ]
  },
  {
   "cell_type": "markdown",
   "metadata": {},
   "source": [
    "1.) Create a python program that will ask the user to input the values the elements of a 3x3 Matrix. Then\n",
    "store this values in a 2D array. (You don’t have to use the numpy.append for this number)\n",
    "\n",
    "    a.) Print the diagonal of the matrix\n",
    "\n",
    "    b.) Print the inverse of the matrix\n",
    "\n",
    "    c.) Print the determinant of the matrix"
   ]
  },
  {
   "cell_type": "code",
   "execution_count": 6,
   "metadata": {},
   "outputs": [
    {
     "name": "stdout",
     "output_type": "stream",
     "text": [
      "Enter the elements of the 3x3 matrix:\n",
      "Matrix:\n",
      "[[ 3.  2. 12.]\n",
      " [34. 43. 23.]\n",
      " [64. 24. 65.]]\n",
      "Diagonal elements: [ 3. 43. 65.]\n",
      "Inverse matrix:\n",
      "[[-0.12475666 -0.00878803  0.02614161]\n",
      " [ 0.04104789  0.03187052 -0.01885533]\n",
      " [ 0.10768118 -0.00311474 -0.00339285]]\n",
      "Determinant: -17979.0\n"
     ]
    }
   ],
   "source": [
    "# Function to input a 3x3 matrix from the user\n",
    "def input_matrix():\n",
    "    matrix = []\n",
    "    print(\"Enter the elements of the 3x3 matrix:\")\n",
    "    for i in range(3):\n",
    "        row = []\n",
    "        for j in range(3):\n",
    "            element = float(input(f\"Enter element at position ({i}, {j}): \"))\n",
    "            row.append(element)\n",
    "        matrix.append(row)\n",
    "    return matrix\n",
    "\n",
    "def number_one():\n",
    "    matrix = input_matrix()\n",
    "\n",
    "    # Convert the 2D list into a numpy array\n",
    "    np_matrix = np.array(matrix)\n",
    "\n",
    "    print(\"Matrix:\")\n",
    "    print(np_matrix)\n",
    "\n",
    "    # a.) Print the diagonal of the matrix\n",
    "    diagonal = np.diag(np_matrix)\n",
    "    print(\"Diagonal elements:\", diagonal)\n",
    "\n",
    "    # b.) Print the inverse of the matrix\n",
    "    try:\n",
    "        inverse = np.linalg.inv(np_matrix)\n",
    "        print(\"Inverse matrix:\")\n",
    "        print(inverse)\n",
    "    except np.linalg.LinAlgError:\n",
    "        print(\"The matrix is singular and doesn't have an inverse.\")\n",
    "\n",
    "    # c.) Print the determinant of the matrix\n",
    "    determinant = np.linalg.det(np_matrix)\n",
    "    print(\"Determinant:\", determinant)\n",
    "\n",
    "number_one()"
   ]
  },
  {
   "cell_type": "markdown",
   "metadata": {},
   "source": [
    "2.) Create a python program that will ask the user the degree of the polynomial and the values of the\n",
    "coefficients of the polynomial. Store the values of the component using numpy.append (Note you can\n",
    "use numpy.array([]) to create an empty array.) The print the following:\n",
    "\n",
    "    a. The roots of the polynomial\n",
    "\n",
    "    b. The derivative of the polynomial\n",
    "\n",
    "    c. The integration of the polynomial\n"
   ]
  },
  {
   "cell_type": "code",
   "execution_count": 7,
   "metadata": {},
   "outputs": [
    {
     "name": "stdout",
     "output_type": "stream",
     "text": [
      "2\n",
      "The roots are:  [-0.17751743  0.1310058 ]\n",
      "The coefficients of the derivative are:  [86.  2.]\n",
      "The coefficients of the integral are:  [14.33333333  1.         -1.          0.        ]\n"
     ]
    }
   ],
   "source": [
    "# Function to input coefficients from the user\n",
    "def input_coefficients(degree):\n",
    "    # empty\n",
    "    poly = np.array([])\n",
    "\n",
    "    for i in range(degree + 1):\n",
    "        coefficient = float(input(f\"Enter coefficient for x^{i}: \"))\n",
    "        poly = np.append(poly, coefficient)\n",
    "    \n",
    "    return poly\n",
    "\n",
    "def number_two():\n",
    "    degree = int(input(\"Enter the degree: \"))\n",
    "    print(degree)\n",
    "\n",
    "    poly = input_coefficients(degree)\n",
    "\n",
    "    # a.) Print the roots of the polynomial\n",
    "    roots = np.roots(poly)\n",
    "    print(\"The roots are: \", roots)\n",
    "\n",
    "    # b.) Print the derivative of the polynomial\n",
    "    derivative = np.polyder(poly)\n",
    "    print(\"The coefficients of the derivative are: \", derivative)\n",
    "\n",
    "    # c.) Print the integration of the polynomial\n",
    "    integration = np.polyint(poly)\n",
    "    print(\"The coefficients of the integral are: \", integration)\n",
    "\n",
    "number_two()"
   ]
  },
  {
   "cell_type": "markdown",
   "metadata": {},
   "source": [
    "3.) Create a python program that will ask the user to input the components of two vectors (Store the\n",
    "values of the component using numpy.append). Then calculate the following:\n",
    "\n",
    "    a. The dot product of the two vectors.\n",
    "\n",
    "    b. The cross product of the two vectors.\n",
    "\n",
    "    c. The magnitude of the cross product."
   ]
  },
  {
   "cell_type": "code",
   "execution_count": 10,
   "metadata": {},
   "outputs": [
    {
     "name": "stdout",
     "output_type": "stream",
     "text": [
      "Enter the elements of the 3x3 matrix:\n",
      "Enter the elements of the 3x3 matrix:\n",
      "Dot product: \n",
      " [[12. 18.  9.]\n",
      " [12. 18.  7.]\n",
      " [12. 18.  9.]]\n",
      "Cross Product: \n",
      " [[-7.  5. -1.]\n",
      " [ 0.  0.  0.]\n",
      " [-5.  4. -1.]]\n",
      "Magnitude of the Cross Product: \n",
      " 10.816653826391969\n"
     ]
    }
   ],
   "source": [
    "def input_matrix():\n",
    "    matrix = []\n",
    "    print(\"Enter the elements of the 3x3 matrix:\")\n",
    "    for i in range(3):\n",
    "        row = []\n",
    "        for j in range(3):\n",
    "            element = float(input(f\"Enter element at position ({i}, {j}): \"))\n",
    "            row.append(element)\n",
    "        matrix.append(row)\n",
    "    return matrix\n",
    "\n",
    "def number_three():\n",
    "    vectorA = input_matrix()\n",
    "    vectorB = input_matrix()\n",
    "\n",
    "    # a.) Print the dot product of the two vectors\n",
    "    dot = np.dot(vectorA, vectorB)\n",
    "    print(\"Dot product: \\n\", dot)\n",
    "\n",
    "    # b.) Print the cross product of the two vectors\n",
    "    cross = np.cross(vectorA, vectorB)\n",
    "    print(\"Cross Product: \\n\", cross)\n",
    "\n",
    "    # c.) Print the magnitude of the cross product\n",
    "    magnitude = np.linalg.norm(cross)\n",
    "    print(\"Magnitude of the Cross Product: \\n\", magnitude)\n",
    "\n",
    "number_three()"
   ]
  },
  {
   "cell_type": "markdown",
   "metadata": {},
   "source": [
    "4.) Create a python program that will ask the user to input 10 floating-point number then store it in a 1D\n",
    "array using numpy.append. Calculate and print the following:\n",
    "\n",
    "    a.) The mean value of the elements in the array.\n",
    "\n",
    "    b.) Print the elements that are greater than 2.\n",
    "\n",
    "    c.) Print the first five highest values in the array in descending order (Hint: read more about sorted\n",
    "    function)."
   ]
  },
  {
   "cell_type": "code",
   "execution_count": 15,
   "metadata": {},
   "outputs": [
    {
     "name": "stdout",
     "output_type": "stream",
     "text": [
      "Mean of the array:  22.6\n",
      "Elements that are greater than 2:  [12. 34. 34. 89. 34. 56. 24.]\n",
      "The First Five Highest Elements:  [89.0, 56.0, 34.0, 34.0, 34.0]\n"
     ]
    }
   ],
   "source": [
    "def number_four():\n",
    "    array = []\n",
    "\n",
    "    # input 10 floating points\n",
    "    for i in range(10):\n",
    "        x = float(input(f\"Enter a floating-point number[{i + 1}]: \"))\n",
    "        array = np.append(array, x)\n",
    "    \n",
    "    # a.) Print the mean\n",
    "    mean = array.mean()\n",
    "    print(\"Mean of the array: \", mean)\n",
    "\n",
    "    # b.) Print all elements that are greater than 2\n",
    "    arrayGreaterThan2 = array[array > 2]\n",
    "    print(\"Elements that are greater than 2: \", arrayGreaterThan2)\n",
    "\n",
    "    # c.) Print the first five highest values in descending order\n",
    "    descendingOrder = sorted(array, reverse=True)\n",
    "    slicedArray = descendingOrder[:5]\n",
    "    print(\"The First Five Highest Elements: \", slicedArray)\n",
    "\n",
    "number_four()"
   ]
  }
 ],
 "metadata": {
  "kernelspec": {
   "display_name": "Python 3",
   "language": "python",
   "name": "python3"
  },
  "language_info": {
   "codemirror_mode": {
    "name": "ipython",
    "version": 3
   },
   "file_extension": ".py",
   "mimetype": "text/x-python",
   "name": "python",
   "nbconvert_exporter": "python",
   "pygments_lexer": "ipython3",
   "version": "3.11.4"
  },
  "orig_nbformat": 4
 },
 "nbformat": 4,
 "nbformat_minor": 2
}
