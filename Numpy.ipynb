{
 "cells": [
  {
   "cell_type": "markdown",
   "metadata": {},
   "source": [
    "#### Exploring Numpy\n",
    "\n",
    "Numpy package is used to manipulate large arrays and matrices of numeric data."
   ]
  },
  {
   "cell_type": "code",
   "execution_count": 2,
   "metadata": {},
   "outputs": [],
   "source": [
    "# importing numpy\n",
    "import numpy as np"
   ]
  },
  {
   "cell_type": "markdown",
   "metadata": {},
   "source": [
    "**Creating an array using numpy**\n",
    "\n",
    "syntax: np.array([list], datatype)\n",
    "\n",
    "    - np => module name for numpy\n",
    "    - [list] => list of elements\n",
    "    - datatype => datatype of the elements"
   ]
  },
  {
   "cell_type": "code",
   "execution_count": 8,
   "metadata": {},
   "outputs": [
    {
     "name": "stdout",
     "output_type": "stream",
     "text": [
      "[24 13 56  1]\n",
      "[24. 13. 56.  1.]\n",
      "['24' '13' '56' '1']\n"
     ]
    }
   ],
   "source": [
    "intList = np.array([24, 13, 56, 1], int)\n",
    "floatList = np.array([24, 13, 56, 1], float)\n",
    "strList = np.array([24, 13, 56, 1], str)\n",
    "\n",
    "# display\n",
    "print(intList)\n",
    "print(floatList)\n",
    "print(strList)"
   ]
  },
  {
   "cell_type": "markdown",
   "metadata": {},
   "source": [
    "**Slicing an array**\n",
    "\n",
    "syntax: array[startingIndex:]\n",
    "\n",
    "this will slice from the *startingIndex* and beyond"
   ]
  },
  {
   "cell_type": "code",
   "execution_count": 14,
   "metadata": {},
   "outputs": [
    {
     "name": "stdout",
     "output_type": "stream",
     "text": [
      "[12 45 23  1 90]\n",
      "[ 1 90]\n"
     ]
    }
   ],
   "source": [
    "arrayList = np.array([12, 45, 23, 1, 90]) # if there is no datatype,  int is default\n",
    "slicedArray = arrayList[3:]\n",
    "\n",
    "# display\n",
    "print(arrayList)\n",
    "print(slicedArray)"
   ]
  },
  {
   "cell_type": "markdown",
   "metadata": {},
   "source": [
    "**N-Dimensional Arrays**"
   ]
  },
  {
   "cell_type": "code",
   "execution_count": 21,
   "metadata": {},
   "outputs": [
    {
     "name": "stdout",
     "output_type": "stream",
     "text": [
      "[[1 2 3]\n",
      " [4 5 6]\n",
      " [7 8 9]]\n",
      "row[1]:  [4 5 6]\n",
      "row[2] col[1]:  8\n"
     ]
    }
   ],
   "source": [
    "nDimensionalArray = np.array([[1, 2, 3], [4, 5, 6], [7, 8, 9]])\n",
    "\n",
    "print(nDimensionalArray)\n",
    "\n",
    "# accessing a row\n",
    "print('row[1]: ', nDimensionalArray[1])\n",
    "\n",
    "# accessing an element\n",
    "print('row[2] col[1]: ', nDimensionalArray[2, 1])"
   ]
  },
  {
   "cell_type": "markdown",
   "metadata": {},
   "source": [
    "**Slicing an N-Dimensional Array**"
   ]
  },
  {
   "cell_type": "code",
   "execution_count": 26,
   "metadata": {},
   "outputs": [
    {
     "name": "stdout",
     "output_type": "stream",
     "text": [
      "Row 1 and beyond:  [[4 5 6]\n",
      " [7 8 9]]\n",
      "Row 2, Col 1, and beyond:  [[8 9]]\n"
     ]
    }
   ],
   "source": [
    "print('Row 1 and beyond: ', nDimensionalArray[1:]) # prints row 1 and beyond\n",
    "print('Row 2, Col 1, and beyond: ', nDimensionalArray[2:, 1:]) # prints row 2 and column 1 and beyond"
   ]
  },
  {
   "cell_type": "markdown",
   "metadata": {},
   "source": [
    "**Checking if a specific element is present in the array**\n",
    "\n",
    "syntax: elementValue *in* arrayName"
   ]
  },
  {
   "cell_type": "code",
   "execution_count": 30,
   "metadata": {},
   "outputs": [
    {
     "name": "stdout",
     "output_type": "stream",
     "text": [
      "True\n",
      "False\n"
     ]
    }
   ],
   "source": [
    "print(8 in nDimensionalArray)\n",
    "print(8 in nDimensionalArray[1])"
   ]
  },
  {
   "cell_type": "markdown",
   "metadata": {},
   "source": [
    "**Reshaping array into a new dimension**\n",
    "\n",
    "syntax: array.reshape((*rowSize*, *colSize*))"
   ]
  },
  {
   "cell_type": "code",
   "execution_count": 23,
   "metadata": {},
   "outputs": [
    {
     "name": "stdout",
     "output_type": "stream",
     "text": [
      "[[ 1  2  3  4]\n",
      " [ 5  6  7  8]\n",
      " [ 9 10 11 12]]\n",
      "[[ 1  2  3  4  5  6]\n",
      " [ 7  8  9 10 11 12]]\n",
      "[[ 1  2]\n",
      " [ 3  4]\n",
      " [ 5  6]\n",
      " [ 7  8]\n",
      " [ 9 10]\n",
      " [11 12]]\n"
     ]
    }
   ],
   "source": [
    "import numpy as np\n",
    "\n",
    "# N-dimensional arrays should have the same number of columns\n",
    "nDimensionalArray = np.array([[1, 2, 3, 4, 5, 6, 7, 8, 9, 10, 11, 12]])\n",
    "\n",
    "reshapedArray = nDimensionalArray.reshape((3, 4))\n",
    "\n",
    "print(reshapedArray)\n",
    "\n",
    "reshapedArray = nDimensionalArray.reshape((2, 6))\n",
    "\n",
    "print(reshapedArray)\n",
    "\n",
    "reshapedArray = nDimensionalArray.reshape((6, 2))\n",
    "\n",
    "print(reshapedArray)"
   ]
  },
  {
   "cell_type": "markdown",
   "metadata": {},
   "source": [
    "**Transposing an array**"
   ]
  },
  {
   "cell_type": "code",
   "execution_count": 24,
   "metadata": {},
   "outputs": [
    {
     "name": "stdout",
     "output_type": "stream",
     "text": [
      "[[ 1  3  5  7  9 11]\n",
      " [ 2  4  6  8 10 12]]\n"
     ]
    }
   ],
   "source": [
    "print(reshapedArray.transpose())"
   ]
  },
  {
   "cell_type": "markdown",
   "metadata": {},
   "source": [
    "**Concatenating arrays**\n",
    "\n",
    "By default, it will concantenate in the rows"
   ]
  },
  {
   "cell_type": "code",
   "execution_count": 5,
   "metadata": {},
   "outputs": [
    {
     "name": "stdout",
     "output_type": "stream",
     "text": [
      "[[1 2]\n",
      " [3 4]\n",
      " [5 6]\n",
      " [7 8]]\n"
     ]
    }
   ],
   "source": [
    "import numpy as np\n",
    "\n",
    "array1 = np.array([[1, 2], [3, 4]])\n",
    "array2 = np.array([[5, 6], [7, 8]])\n",
    "array3 = np.concatenate((array1, array2))\n",
    "\n",
    "print(array3)"
   ]
  },
  {
   "cell_type": "markdown",
   "metadata": {},
   "source": [
    "You can also specify the axis of which the multiple array will concatenate.\n",
    "\n",
    "syntax: np.concatenate((*arrays*), axis=n)\n",
    "where n: \n",
    "\n",
    "    0 => vertically (add rows)\n",
    "\n",
    "    1 => horizontally (add columns)"
   ]
  },
  {
   "cell_type": "code",
   "execution_count": 9,
   "metadata": {},
   "outputs": [
    {
     "name": "stdout",
     "output_type": "stream",
     "text": [
      "\n",
      "Adding vertically: \n",
      " [[1 2]\n",
      " [3 4]\n",
      " [5 6]\n",
      " [7 8]]\n",
      "\n",
      "Adding horizontally: \n",
      " [[1 2 5 6]\n",
      " [3 4 7 8]]\n"
     ]
    }
   ],
   "source": [
    "import numpy as np\n",
    "\n",
    "# arrays can only be concatenated if and only if both arrays have the same dimesnions\n",
    "array1 = np.array([[1, 2], [3, 4]])\n",
    "array2 = np.array([[5, 6], [7, 8]])\n",
    "\n",
    "# concatenate vertically\n",
    "rowCat = np.concatenate((array1, array2), axis=0)\n",
    "# concatenate horizontally\n",
    "colCat = np.concatenate((array1, array2), axis=1)\n",
    "\n",
    "# display\n",
    "print('\\nAdding vertically: \\n', rowCat)\n",
    "print('\\nAdding horizontally: \\n', colCat)"
   ]
  },
  {
   "cell_type": "markdown",
   "metadata": {},
   "source": [
    "**Creating arrays using *arrange***\n",
    "\n",
    "syntax: np.arange([start, ], stop, [step, ]. dtype=None)\n",
    "\n",
    "*start* (optional)\n",
    "\n",
    "    - first value of array(inclusive)\n",
    "    - default = 0\n",
    "\n",
    "*stop* (mandatory)\n",
    "\n",
    "    - end value of array (exclusive)\n",
    "\n",
    "*step* (optional)\n",
    "\n",
    "    - increment/decrement between the values in the array\n",
    "    - default = 1\n",
    "\n",
    "*dtype* (optional)\n",
    "\n",
    "    - type of elements of the output array\n",
    "    - default = None"
   ]
  },
  {
   "cell_type": "code",
   "execution_count": 16,
   "metadata": {},
   "outputs": [
    {
     "name": "stdout",
     "output_type": "stream",
     "text": [
      "[24 21 18 15 12]\n"
     ]
    }
   ],
   "source": [
    "import numpy as np\n",
    "\n",
    "array = np.arange(start=24, stop=11, step=-3, dtype=int)\n",
    "\n",
    "print(array)"
   ]
  },
  {
   "cell_type": "markdown",
   "metadata": {},
   "source": [
    "**Creating arrays of *ones* and *zeros***\n",
    "\n",
    "np.ones(shape, dtype=None)\n",
    "\n",
    "np.zeros(shape, dtype=float)\n",
    "\n",
    "where:\n",
    "\n",
    "*shape* - dimension of the array (3, 2)"
   ]
  },
  {
   "cell_type": "code",
   "execution_count": 20,
   "metadata": {},
   "outputs": [
    {
     "name": "stdout",
     "output_type": "stream",
     "text": [
      "[[1. 1. 1. 1. 1.]\n",
      " [1. 1. 1. 1. 1.]]\n",
      "[[0 0 0 0]\n",
      " [0 0 0 0]\n",
      " [0 0 0 0]]\n"
     ]
    }
   ],
   "source": [
    "import numpy as np\n",
    "\n",
    "ones = np.ones((2, 5), dtype=float) # default is None\n",
    "zeros = np.zeros((3, 4), dtype=int) # defaalt is float\n",
    "\n",
    "print(ones)\n",
    "print(zeros)"
   ]
  },
  {
   "cell_type": "markdown",
   "metadata": {},
   "source": [
    "**Creating identity matrix**\n",
    "\n",
    "Identity matix is a nxn dimensional matrix having *1* on the *main diagonal* and *0*s *elsewhere*\n",
    "\n",
    "syntax: np.identity(n, dtype=None)"
   ]
  },
  {
   "cell_type": "code",
   "execution_count": 26,
   "metadata": {},
   "outputs": [
    {
     "name": "stdout",
     "output_type": "stream",
     "text": [
      "[[1. 0. 0. 0. 0.]\n",
      " [0. 1. 0. 0. 0.]\n",
      " [0. 0. 1. 0. 0.]\n",
      " [0. 0. 0. 1. 0.]\n",
      " [0. 0. 0. 0. 1.]]\n"
     ]
    }
   ],
   "source": [
    "import numpy as np\n",
    "\n",
    "identity = np.identity(5)\n",
    "\n",
    "print(identity)"
   ]
  },
  {
   "cell_type": "markdown",
   "metadata": {},
   "source": []
  },
  {
   "cell_type": "markdown",
   "metadata": {},
   "source": [
    "**Array Mathematics**\n",
    "\n",
    "operation with a *constant* to every element in the array"
   ]
  },
  {
   "cell_type": "code",
   "execution_count": 30,
   "metadata": {},
   "outputs": [
    {
     "name": "stdout",
     "output_type": "stream",
     "text": [
      "[ 9  7 12]\n",
      "[2 0 5]\n",
      "[12  6 21]\n",
      "[2.  1.  3.5]\n"
     ]
    }
   ],
   "source": [
    "import numpy as np\n",
    "\n",
    "print(np.array([4, 2, 7]) + 5) # addition\n",
    "print(np.array([4, 2, 7]) - 2) # subtraction\n",
    "print(np.array([4, 2, 7]) * 3) # multiplication\n",
    "print(np.array([4, 2, 7]) / 2) # division (automatically converts to float)"
   ]
  },
  {
   "cell_type": "markdown",
   "metadata": {},
   "source": [
    "operation between arrays"
   ]
  },
  {
   "cell_type": "code",
   "execution_count": 34,
   "metadata": {},
   "outputs": [
    {
     "name": "stdout",
     "output_type": "stream",
     "text": [
      "[[ 24  72 144]\n",
      " [ 96 180 288]]\n",
      "[[ 2.  6. 18.]\n",
      " [12. 20.  6.]]\n"
     ]
    }
   ],
   "source": [
    "import numpy as np\n",
    "\n",
    "array1 = np.array([[12, 24, 36], [48, 60, 72]])\n",
    "array2 = np.array([2, 3, 4])\n",
    "array3 = np.array([[6, 4, 2], [4, 3, 12]])\n",
    "\n",
    "print(array1 * array2)\n",
    "print(array1 / array3)"
   ]
  },
  {
   "cell_type": "markdown",
   "metadata": {},
   "source": [
    "some other mathematical functions"
   ]
  },
  {
   "cell_type": "code",
   "execution_count": 35,
   "metadata": {},
   "outputs": [
    {
     "name": "stdout",
     "output_type": "stream",
     "text": [
      "\n",
      "Absolute Value:  [ 9 25 16]\n",
      "\n",
      "Sign:  [-1  1  1]\n",
      "\n",
      "Squareoot Value:  [nan  5.  4.]\n",
      "\n",
      "Natural Logarithm:  [       nan 3.21887582 2.77258872]\n",
      "\n",
      "Log base 10:  [       nan 1.39794001 1.20411998]\n",
      "\n",
      "Sine Value:  [-0.41211849 -0.13235175 -0.28790332]\n",
      "\n",
      "Cosine Value:  [-0.91113026  0.99120281 -0.95765948]\n"
     ]
    },
    {
     "name": "stderr",
     "output_type": "stream",
     "text": [
      "C:\\Users\\monza\\AppData\\Local\\Temp\\ipykernel_16416\\3839021491.py:5: RuntimeWarning: invalid value encountered in sqrt\n",
      "  print('\\nSquareoot Value: ', np.sqrt(array))\n",
      "C:\\Users\\monza\\AppData\\Local\\Temp\\ipykernel_16416\\3839021491.py:6: RuntimeWarning: invalid value encountered in log\n",
      "  print('\\nNatural Logarithm: ', np.log(array))\n",
      "C:\\Users\\monza\\AppData\\Local\\Temp\\ipykernel_16416\\3839021491.py:7: RuntimeWarning: invalid value encountered in log10\n",
      "  print('\\nLog base 10: ', np.log10(array))\n"
     ]
    }
   ],
   "source": [
    "array = np.array([-9, 25, 16])\n",
    "\n",
    "print('\\nAbsolute Value: ', np.abs(array))\n",
    "print('\\nSign: ', np.sign(array))\n",
    "print('\\nSquareoot Value: ', np.sqrt(array))\n",
    "print('\\nNatural Logarithm: ', np.log(array))\n",
    "print('\\nLog base 10: ', np.log10(array))\n",
    "print('\\nSine Value: ', np.sin(array))\n",
    "print('\\nCosine Value: ', np.cos(array))"
   ]
  },
  {
   "cell_type": "markdown",
   "metadata": {},
   "source": [
    "**Rounding off arrays**"
   ]
  },
  {
   "cell_type": "code",
   "execution_count": 37,
   "metadata": {},
   "outputs": [
    {
     "name": "stdout",
     "output_type": "stream",
     "text": [
      "[2. 2. 2.]\n",
      "[3. 3. 3.]\n",
      "[2. 3. 3.]\n"
     ]
    }
   ],
   "source": [
    "import numpy as np\n",
    "\n",
    "array = np.array([2.5, 2.52, 2.8])\n",
    "\n",
    "print(np.floor(array)) # round down\n",
    "print(np.ceil(array))  # round up\n",
    "print(np.rint(array))  # round to the nearest number"
   ]
  },
  {
   "cell_type": "markdown",
   "metadata": {},
   "source": [
    "**Pi and Euler's number**"
   ]
  },
  {
   "cell_type": "code",
   "execution_count": 38,
   "metadata": {},
   "outputs": [
    {
     "name": "stdout",
     "output_type": "stream",
     "text": [
      "3.141592653589793\n",
      "2.718281828459045\n"
     ]
    }
   ],
   "source": [
    "print(np.pi)\n",
    "print(np.e)"
   ]
  },
  {
   "cell_type": "markdown",
   "metadata": {},
   "source": [
    "**Array iteration**"
   ]
  },
  {
   "cell_type": "code",
   "execution_count": 45,
   "metadata": {},
   "outputs": [
    {
     "name": "stdout",
     "output_type": "stream",
     "text": [
      "[12 24 36]\n",
      "[48 60 72]\n",
      "12\n",
      "24\n",
      "36\n",
      "48\n",
      "60\n",
      "72\n",
      "(x, y, z) = (12, 24, 36)\n",
      "(x, y, z) = (48, 60, 72)\n"
     ]
    }
   ],
   "source": [
    "import numpy as np\n",
    "\n",
    "numbers = np.array([[12, 24, 36], [48, 60, 72]])\n",
    "\n",
    "# iterating rows only\n",
    "for row in numbers:\n",
    "    print(row)\n",
    "\n",
    "# iterating each element\n",
    "for row in numbers:\n",
    "    for col in row:\n",
    "        print(col)\n",
    "\n",
    "# multiple assignments\n",
    "for (x, y, z) in numbers:\n",
    "    print('(x, y, z) = ({0}, {1}, {2})'.format(x, y, z))"
   ]
  },
  {
   "cell_type": "markdown",
   "metadata": {},
   "source": [
    "**Whole-Array Properties**"
   ]
  },
  {
   "cell_type": "code",
   "execution_count": 53,
   "metadata": {},
   "outputs": [
    {
     "name": "stdout",
     "output_type": "stream",
     "text": [
      "\n",
      " Sum:  19\n",
      "\n",
      " Product:  336\n",
      "\n",
      " Mean:  4.75\n",
      "\n",
      " Variance:  3.6875\n",
      "\n",
      " Standard Deviation:  1.920286436967152\n",
      "\n",
      " Minimum Value:  2\n",
      "\n",
      " Maximum Value:  7\n",
      "\n",
      " Index of the minimum value:  0\n",
      "\n",
      " Index of the maximum value:  1\n",
      "\n",
      " Unique Values:  [2 4 6 7]\n",
      "[[2 7 4 6]\n",
      " [2 7 4 6]]\n",
      "\n",
      " Diagonal:  [2 7]\n"
     ]
    }
   ],
   "source": [
    "import numpy as np\n",
    "\n",
    "array = np.array([2, 7, 4, 6])\n",
    "\n",
    "print('\\n Sum: ', array.sum())\n",
    "print('\\n Product: ', array.prod())\n",
    "print('\\n Mean: ', array.mean())\n",
    "print('\\n Variance: ', array.var())\n",
    "print('\\n Standard Deviation: ', array.std())\n",
    "print('\\n Minimum Value: ', array.min())\n",
    "print('\\n Maximum Value: ', array.max())\n",
    "print('\\n Index of the minimum value: ', array.argmin())\n",
    "print('\\n Index of the maximum value: ', array.argmax())\n",
    "print('\\n Unique Values: ', np.unique(array))\n",
    "\n",
    "dArray = np.array([[2, 7, 4, 6], [2, 7, 4, 6]])\n",
    "print(dArray)\n",
    "print('\\n Diagonal: ', np.diagonal(dArray))"
   ]
  },
  {
   "cell_type": "markdown",
   "metadata": {},
   "source": [
    "**Relational Operators and Value Testing**"
   ]
  },
  {
   "cell_type": "code",
   "execution_count": 57,
   "metadata": {},
   "outputs": [
    {
     "name": "stdout",
     "output_type": "stream",
     "text": [
      "[[False  True False]\n",
      " [ True False False]]\n",
      "True\n",
      "False\n"
     ]
    }
   ],
   "source": [
    "import numpy as np\n",
    "\n",
    "array1 = np.array([[-24, 26, 190], [67, -12, 2]])\n",
    "array2 = np.array([4, 1, 200])\n",
    "c = array1 > array2\n",
    "\n",
    "print(c)\n",
    "print(np.any(c)) # returns True if atleast 1 True exist\n",
    "print(np.all(c)) # returns True if and only if all elements are True"
   ]
  },
  {
   "cell_type": "markdown",
   "metadata": {},
   "source": [
    "**Boolean Exppressions**"
   ]
  },
  {
   "cell_type": "code",
   "execution_count": 5,
   "metadata": {},
   "outputs": [
    {
     "name": "stdout",
     "output_type": "stream",
     "text": [
      "Logic AND: [False False False False]\n",
      "Logic NOT: [ True  True  True  True]\n",
      "Logic OR: [ True  True  True  True]\n",
      "Logic XOR: [False False False False]\n"
     ]
    }
   ],
   "source": [
    "import numpy as np\n",
    "\n",
    "array1 = np.array([1, -2, 45, 13], int)\n",
    "array2 = np.array([-15, 23, 45, 14], float)\n",
    "\n",
    "logicAND = np.logical_and(array1 > array2, array1 < array2)\n",
    "logicNOT = np.logical_not(logicAND)\n",
    "logicOR = np.logical_or(logicNOT, logicAND)\n",
    "logicXOR = np.logical_xor(logicOR, logicNOT)\n",
    "\n",
    "# display\n",
    "print('Logic AND:', logicAND)\n",
    "print('Logic NOT:', logicNOT)\n",
    "print('Logic OR:', logicOR)\n",
    "print('Logic XOR:', logicXOR)"
   ]
  },
  {
   "cell_type": "code",
   "execution_count": 13,
   "metadata": {},
   "outputs": [
    {
     "name": "stdout",
     "output_type": "stream",
     "text": [
      "[[1 0 0 0 0]\n",
      " [0 1 0 0 0]\n",
      " [0 0 1 0 0]\n",
      " [0 0 0 1 0]\n",
      " [0 0 0 0 1]]\n",
      "(array([0, 1, 2, 3, 4], dtype=int64), array([0, 1, 2, 3, 4], dtype=int64))\n"
     ]
    }
   ],
   "source": [
    "import numpy as np\n",
    "\n",
    "array = np.identity(5, dtype=int)\n",
    "\n",
    "# array.nonzero() - returns the tuple of indices of the nonzero values in the array\n",
    "print(array)\n",
    "print(array.nonzero())"
   ]
  },
  {
   "cell_type": "code",
   "execution_count": 16,
   "metadata": {},
   "outputs": [
    {
     "name": "stdout",
     "output_type": "stream",
     "text": [
      "[False  True False False False]\n",
      "[ True False  True  True False]\n"
     ]
    }
   ],
   "source": [
    "import numpy as np\n",
    "\n",
    "array = np.array([2, np.nan, 24, -13, np.inf])\n",
    "\n",
    "print(np.isnan(array))    # check if the element is NaN\n",
    "print(np.isfinite(array)) # check if the element is finite"
   ]
  },
  {
   "cell_type": "markdown",
   "metadata": {},
   "source": [
    "**Array item selection and manipulation**\n",
    "\n",
    "Get all the elements in the array that passes the given requirement"
   ]
  },
  {
   "cell_type": "code",
   "execution_count": 17,
   "metadata": {},
   "outputs": [
    {
     "name": "stdout",
     "output_type": "stream",
     "text": [
      "[36 48]\n"
     ]
    }
   ],
   "source": [
    "import numpy as np \n",
    "\n",
    "array = np.array([12, 34, 36, 48])\n",
    "condition = np.array([5, 12, 6, 4])\n",
    "\n",
    "print(array[array % condition == 0])"
   ]
  },
  {
   "cell_type": "markdown",
   "metadata": {},
   "source": [
    "Use another array to act as index to access another array"
   ]
  },
  {
   "cell_type": "code",
   "execution_count": 20,
   "metadata": {},
   "outputs": [
    {
     "name": "stdout",
     "output_type": "stream",
     "text": [
      "[48 12 36 34]\n"
     ]
    }
   ],
   "source": [
    "import numpy as np \n",
    "\n",
    "array = np.array([12, 34, 36, 48])\n",
    "# displays index 3, index 0 , index 2, index 1\n",
    "index = np.array([3, 0, 2, 1])\n",
    "\n",
    "print(array[index])"
   ]
  },
  {
   "cell_type": "code",
   "execution_count": 29,
   "metadata": {},
   "outputs": [
    {
     "name": "stdout",
     "output_type": "stream",
     "text": [
      "[36 23 25 15 36]\n"
     ]
    }
   ],
   "source": [
    "import numpy as np \n",
    "\n",
    "array = np.array([[12, 34, 36, 48], [15, 23, 89, 25]])\n",
    "\n",
    "# displays row 1, row 0\n",
    "index = np.array([1, 0])\n",
    "\n",
    "# display using rows and columns (rows and columns should have the same dimension)\n",
    "row = np.array([0, 1, 1, 1, 0])\n",
    "column = np.array([2, 1, 3, 0, 2])\n",
    "\n",
    "print(array[row, column])"
   ]
  },
  {
   "cell_type": "markdown",
   "metadata": {},
   "source": [
    "Using *take()* function\n"
   ]
  },
  {
   "cell_type": "code",
   "execution_count": 36,
   "metadata": {},
   "outputs": [
    {
     "name": "stdout",
     "output_type": "stream",
     "text": [
      "Vertically(row): \n",
      " [[1 2 3]\n",
      " [7 8 9]\n",
      " [4 5 6]]\n",
      "Horizontally(column): \n",
      " [[1 3 2]\n",
      " [4 6 5]\n",
      " [7 9 8]]\n"
     ]
    }
   ],
   "source": [
    "import numpy as np\n",
    "\n",
    "array = np.array([[1, 2, 3], [4, 5, 6], [7, 8, 9]])\n",
    "indices = [0, 2, 1]\n",
    "\n",
    "#  display\n",
    "print('Vertically(row): \\n', np.take(array, indices, axis=0))\n",
    "print('Horizontally(column): \\n', np.take(array, indices, axis=1))"
   ]
  },
  {
   "cell_type": "markdown",
   "metadata": {},
   "source": [
    "**More Mathematics**\n",
    "\n",
    "Dot product\n"
   ]
  },
  {
   "cell_type": "code",
   "execution_count": 41,
   "metadata": {},
   "outputs": [
    {
     "name": "stdout",
     "output_type": "stream",
     "text": [
      "48\n",
      "[[13 15]\n",
      " [29 31]]\n"
     ]
    }
   ],
   "source": [
    "import numpy as np\n",
    "\n",
    "a = np.array([1, 2, 3, 4])\n",
    "b = np.array([3, 1, 5, 7])\n",
    "\n",
    "# dot-product of 1D arrays\n",
    "print(np.dot(a, b)) # (1*3 + 2*1 + 3*5 + 4*7)\n",
    "\n",
    "a = np.array([[1, 2], [3, 4]])\n",
    "b = np.array([[3, 1], [5, 7]])\n",
    "\n",
    "# Matrix Multiplication\n",
    "print(np.dot(a, b))\n",
    "# [1*3 + 2*5] [1*1 + 2*7]\n",
    "# [3*3 + 4*5] [3*1 + 4*7]"
   ]
  },
  {
   "cell_type": "markdown",
   "metadata": {},
   "source": [
    "Outer Product"
   ]
  },
  {
   "cell_type": "code",
   "execution_count": 45,
   "metadata": {},
   "outputs": [
    {
     "name": "stdout",
     "output_type": "stream",
     "text": [
      "[[ 4  5  6]\n",
      " [ 8 10 12]\n",
      " [12 15 18]]\n"
     ]
    }
   ],
   "source": [
    "import numpy as np\n",
    "\n",
    "a = np.array([1, 2, 3])\n",
    "b = np.array([4, 5, 6])\n",
    "\n",
    "print(np.outer(a, b))\n",
    "# 1*4   1*5   1*6   \n",
    "# 2*4   2*5   2*6  \n",
    "# 3*4   3*5   3*6  "
   ]
  },
  {
   "cell_type": "markdown",
   "metadata": {},
   "source": [
    "Inner Product"
   ]
  },
  {
   "cell_type": "code",
   "execution_count": 44,
   "metadata": {},
   "outputs": [
    {
     "name": "stdout",
     "output_type": "stream",
     "text": [
      "32\n"
     ]
    }
   ],
   "source": [
    "import numpy as np\n",
    "\n",
    "a = np.array([1, 2, 3])\n",
    "b = np.array([4, 5, 6])\n",
    "\n",
    "print(np.inner(a, b)) # (1*4) + (2*5) + (3*6)"
   ]
  },
  {
   "cell_type": "code",
   "execution_count": 47,
   "metadata": {},
   "outputs": [
    {
     "name": "stdout",
     "output_type": "stream",
     "text": [
      "[ 1  7 -5]\n"
     ]
    }
   ],
   "source": [
    "import numpy as np\n",
    "\n",
    "a = np.array([1, 2, 3])\n",
    "b = np.array([3, 1, 2])\n",
    "\n",
    "print(np.cross(a, b))\n",
    "# a = x, y, z\n",
    "# b = x, y, z\n",
    "# c = (ay*bz - az*by), (az*bx - ax*bz), (ax*by - ay*bx)"
   ]
  },
  {
   "cell_type": "markdown",
   "metadata": {},
   "source": [
    "**Linear Alegbra Calculations**\n",
    "\n",
    "syntax: np.linalg.*function()*"
   ]
  },
  {
   "cell_type": "code",
   "execution_count": 49,
   "metadata": {},
   "outputs": [
    {
     "name": "stdout",
     "output_type": "stream",
     "text": [
      "The determinant of the matrix is:\n",
      " -306.0\n",
      "The eigenvalue of the matrix is:\n",
      " [11.24862343  5.09285054 -5.34147398]\n",
      "The eigenvector of the matrix is:\n",
      " [[ 0.24511338  0.75669314  0.02645665]\n",
      " [ 0.40622202 -0.03352363 -0.84078293]\n",
      " [ 0.88028581 -0.65291014  0.54072554]]\n",
      "The inverse of the matrix is:\n",
      " [[ 0.17647059 -0.00326797 -0.02287582]\n",
      " [ 0.05882353 -0.13071895  0.08496732]\n",
      " [-0.11764706  0.1503268   0.05228758]]\n"
     ]
    }
   ],
   "source": [
    "import numpy as np\n",
    "\n",
    "M = np.array([[6, 1, 1], [4, -2, 5], [2, 8, 7]], int)\n",
    "\n",
    "detM = np.linalg.det(M)\n",
    "EvalM, EvecM = np.linalg.eig(M)\n",
    "invM = np.linalg.inv(M)\n",
    "\n",
    "print('The determinant of the matrix is:\\n',detM)\n",
    "print('The eigenvalue of the matrix is:\\n',EvalM)\n",
    "print('The eigenvector of the matrix is:\\n',EvecM)\n",
    "print('The inverse of the matrix is:\\n',invM)"
   ]
  },
  {
   "cell_type": "markdown",
   "metadata": {},
   "source": [
    "**Polynomial Mathematics**\n",
    "\n",
    "You can assign coefficient of the polynomial as elements in an array.\n",
    "\n",
    "[1,2,3,4] => 𝑥<sup>3</sup> + 2𝑥<sup>2</sup> + 3𝑥 + 4"
   ]
  },
  {
   "cell_type": "code",
   "execution_count": 53,
   "metadata": {},
   "outputs": [
    {
     "name": "stdout",
     "output_type": "stream",
     "text": [
      "The roots are:\n",
      " [-5.  3.]\n",
      "The coefficients of the integral are:\n",
      " [  0.33333333   1.         -15.           0.        ]\n",
      "The coefficients of the derivative are:\n",
      " [2 2]\n",
      "The value of the polynomial at x=3 is:\n",
      " 0\n"
     ]
    }
   ],
   "source": [
    "import numpy as np\n",
    "\n",
    "poly = np.array([1, 2, -15])\n",
    "\n",
    "#  return the roots\n",
    "print('The roots are:\\n',np.roots(poly))\n",
    "\n",
    "# return the integration where the constant of integration is set to 0\n",
    "print('The coefficients of the integral are:\\n',np.polyint(poly))\n",
    "\n",
    "# returns the derivative\n",
    "print('The coefficients of the derivative are:\\n',np.polyder(poly))\n",
    "\n",
    "# returns the value, where the value of the independent variable is the parameter passed\n",
    "print('The value of the polynomial at x=3 is:\\n',np.polyval(poly, 3))"
   ]
  },
  {
   "cell_type": "markdown",
   "metadata": {},
   "source": [
    "You can also determine the polynomial coefficients, given a set of roots."
   ]
  },
  {
   "cell_type": "code",
   "execution_count": 54,
   "metadata": {},
   "outputs": [
    {
     "name": "stdout",
     "output_type": "stream",
     "text": [
      "The coefficients of the polynomial are:\n",
      " [  1.   2. -15.]\n"
     ]
    }
   ],
   "source": [
    "import numpy as np\n",
    "\n",
    "roots = np.array([-5, 3])\n",
    "\n",
    "print(\"The coefficients of the polynomial are:\\n\", np.poly(roots))"
   ]
  },
  {
   "cell_type": "markdown",
   "metadata": {},
   "source": [
    "A set of data for x (independent variable) and y (dependent variable) can be fit to a polynomial of specified degree using the *polyfit* function"
   ]
  },
  {
   "cell_type": "code",
   "execution_count": 57,
   "metadata": {},
   "outputs": [
    {
     "name": "stdout",
     "output_type": "stream",
     "text": [
      "[ 0.38809524 -1.07619048  1.54642857]\n"
     ]
    }
   ],
   "source": [
    "import numpy as np\n",
    "x = [1, 2, 3, 4, 5, 6, 7, 8]\n",
    "y = [0.2, 2.1, 1.2, 3.4, 6.8, 9.2, 10.9, 19.0]\n",
    "print(np.polyfit(x, y, 2))"
   ]
  }
 ],
 "metadata": {
  "kernelspec": {
   "display_name": "Python 3",
   "language": "python",
   "name": "python3"
  },
  "language_info": {
   "codemirror_mode": {
    "name": "ipython",
    "version": 3
   },
   "file_extension": ".py",
   "mimetype": "text/x-python",
   "name": "python",
   "nbconvert_exporter": "python",
   "pygments_lexer": "ipython3",
   "version": "3.11.4"
  },
  "orig_nbformat": 4
 },
 "nbformat": 4,
 "nbformat_minor": 2
}
